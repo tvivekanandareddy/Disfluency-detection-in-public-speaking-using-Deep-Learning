{
  "nbformat": 4,
  "nbformat_minor": 0,
  "metadata": {
    "colab": {
      "name": "final review demo.ipynb",
      "provenance": [],
      "collapsed_sections": []
    },
    "kernelspec": {
      "name": "python3",
      "display_name": "Python 3"
    },
    "accelerator": "GPU"
  },
  "cells": [
    {
      "cell_type": "code",
      "metadata": {
        "colab": {
          "base_uri": "https://localhost:8080/"
        },
        "id": "wJ3Yp52laFPI",
        "outputId": "59dff2e0-3141-426c-e5b7-5f9e9a423408"
      },
      "source": [
        "#connect to drive for getting dataset\r\n",
        "from google.colab import drive\r\n",
        "drive.mount('/content/drive')"
      ],
      "execution_count": 1,
      "outputs": [
        {
          "output_type": "stream",
          "text": [
            "Mounted at /content/drive\n"
          ],
          "name": "stdout"
        }
      ]
    },
    {
      "cell_type": "code",
      "metadata": {
        "colab": {
          "base_uri": "https://localhost:8080/"
        },
        "id": "feec7XpwaJ_q",
        "outputId": "22e6e179-4365-48ed-ebb2-60bc8fad921a"
      },
      "source": [
        "!pip install -r requirements.txt"
      ],
      "execution_count": 2,
      "outputs": [
        {
          "output_type": "stream",
          "text": [
            "Collecting pydub\n",
            "  Downloading https://files.pythonhosted.org/packages/7b/d1/fbfa79371a8cd9bb15c2e3c480d7e6e340ed5cc55005174e16f48418333a/pydub-0.24.1-py2.py3-none-any.whl\n",
            "Requirement already satisfied: librosa in /usr/local/lib/python3.6/dist-packages (from -r requirements.txt (line 2)) (0.6.3)\n",
            "Collecting flask-ngrok\n",
            "  Downloading https://files.pythonhosted.org/packages/af/6c/f54cb686ad1129e27d125d182f90f52b32f284e6c8df58c1bae54fa1adbc/flask_ngrok-0.0.25-py3-none-any.whl\n",
            "Collecting praat-parselmouth\n",
            "\u001b[?25l  Downloading https://files.pythonhosted.org/packages/09/7b/9fa1172a63b6277603d27bb5613559b5a8888f58e68c1698017b87b0061d/praat_parselmouth-0.3.3-cp36-cp36m-manylinux1_x86_64.whl (9.0MB)\n",
            "\u001b[K     |████████████████████████████████| 9.0MB 11.9MB/s \n",
            "\u001b[?25hRequirement already satisfied: scikit-learn!=0.19.0,>=0.14.0 in /usr/local/lib/python3.6/dist-packages (from librosa->-r requirements.txt (line 2)) (0.22.2.post1)\n",
            "Requirement already satisfied: scipy>=1.0.0 in /usr/local/lib/python3.6/dist-packages (from librosa->-r requirements.txt (line 2)) (1.4.1)\n",
            "Requirement already satisfied: numpy>=1.8.0 in /usr/local/lib/python3.6/dist-packages (from librosa->-r requirements.txt (line 2)) (1.19.4)\n",
            "Requirement already satisfied: decorator>=3.0.0 in /usr/local/lib/python3.6/dist-packages (from librosa->-r requirements.txt (line 2)) (4.4.2)\n",
            "Requirement already satisfied: six>=1.3 in /usr/local/lib/python3.6/dist-packages (from librosa->-r requirements.txt (line 2)) (1.15.0)\n",
            "Requirement already satisfied: resampy>=0.2.0 in /usr/local/lib/python3.6/dist-packages (from librosa->-r requirements.txt (line 2)) (0.2.2)\n",
            "Requirement already satisfied: numba>=0.38.0 in /usr/local/lib/python3.6/dist-packages (from librosa->-r requirements.txt (line 2)) (0.48.0)\n",
            "Requirement already satisfied: audioread>=2.0.0 in /usr/local/lib/python3.6/dist-packages (from librosa->-r requirements.txt (line 2)) (2.1.9)\n",
            "Requirement already satisfied: joblib>=0.12 in /usr/local/lib/python3.6/dist-packages (from librosa->-r requirements.txt (line 2)) (1.0.0)\n",
            "Requirement already satisfied: requests in /usr/local/lib/python3.6/dist-packages (from flask-ngrok->-r requirements.txt (line 3)) (2.23.0)\n",
            "Requirement already satisfied: Flask>=0.8 in /usr/local/lib/python3.6/dist-packages (from flask-ngrok->-r requirements.txt (line 3)) (1.1.2)\n",
            "Requirement already satisfied: setuptools in /usr/local/lib/python3.6/dist-packages (from numba>=0.38.0->librosa->-r requirements.txt (line 2)) (51.0.0)\n",
            "Requirement already satisfied: llvmlite<0.32.0,>=0.31.0dev0 in /usr/local/lib/python3.6/dist-packages (from numba>=0.38.0->librosa->-r requirements.txt (line 2)) (0.31.0)\n",
            "Requirement already satisfied: chardet<4,>=3.0.2 in /usr/local/lib/python3.6/dist-packages (from requests->flask-ngrok->-r requirements.txt (line 3)) (3.0.4)\n",
            "Requirement already satisfied: urllib3!=1.25.0,!=1.25.1,<1.26,>=1.21.1 in /usr/local/lib/python3.6/dist-packages (from requests->flask-ngrok->-r requirements.txt (line 3)) (1.24.3)\n",
            "Requirement already satisfied: certifi>=2017.4.17 in /usr/local/lib/python3.6/dist-packages (from requests->flask-ngrok->-r requirements.txt (line 3)) (2020.12.5)\n",
            "Requirement already satisfied: idna<3,>=2.5 in /usr/local/lib/python3.6/dist-packages (from requests->flask-ngrok->-r requirements.txt (line 3)) (2.10)\n",
            "Requirement already satisfied: Werkzeug>=0.15 in /usr/local/lib/python3.6/dist-packages (from Flask>=0.8->flask-ngrok->-r requirements.txt (line 3)) (1.0.1)\n",
            "Requirement already satisfied: click>=5.1 in /usr/local/lib/python3.6/dist-packages (from Flask>=0.8->flask-ngrok->-r requirements.txt (line 3)) (7.1.2)\n",
            "Requirement already satisfied: itsdangerous>=0.24 in /usr/local/lib/python3.6/dist-packages (from Flask>=0.8->flask-ngrok->-r requirements.txt (line 3)) (1.1.0)\n",
            "Requirement already satisfied: Jinja2>=2.10.1 in /usr/local/lib/python3.6/dist-packages (from Flask>=0.8->flask-ngrok->-r requirements.txt (line 3)) (2.11.2)\n",
            "Requirement already satisfied: MarkupSafe>=0.23 in /usr/local/lib/python3.6/dist-packages (from Jinja2>=2.10.1->Flask>=0.8->flask-ngrok->-r requirements.txt (line 3)) (1.1.1)\n",
            "Installing collected packages: pydub, flask-ngrok, praat-parselmouth\n",
            "Successfully installed flask-ngrok-0.0.25 praat-parselmouth-0.3.3 pydub-0.24.1\n"
          ],
          "name": "stdout"
        }
      ]
    },
    {
      "cell_type": "code",
      "metadata": {
        "id": "bVQy5tKWatIS"
      },
      "source": [
        "from mini_project_codes import praat_script,make_prediction,threshold,making_results,mel_spectrogram,make_chunks,resnet_model,clean_complete_dir,chunk\r\n",
        "from mini_project_codes import make_spectrogram\r\n",
        "from glob import glob\r\n",
        "from flask import Flask, render_template\r\n",
        "from flask import request\r\n",
        "from flask_ngrok import run_with_ngrok"
      ],
      "execution_count": 1,
      "outputs": []
    },
    {
      "cell_type": "code",
      "metadata": {
        "id": "VuVhDJ0XbQ_N"
      },
      "source": [
        "def execute_project(wavfile):\r\n",
        "\r\n",
        "    # wavfile = '/content/drive/MyDrive/mini_project_2/97.wav'\r\n",
        "\r\n",
        "    #making wav file into chunks of each 10 seconds\r\n",
        "\r\n",
        "    print('started making chunks'.center(100,'-'))\r\n",
        "    print('\\n')\r\n",
        "\r\n",
        "    make_chunks(wavfile)\r\n",
        "\r\n",
        "    print('ended making chunks'.center(100,'-'))\r\n",
        "    print('\\n')\r\n",
        "\r\n",
        "\r\n",
        "\r\n",
        "\r\n",
        "    #draw spectrograms for model predictions\r\n",
        "    path = '/content/chunked_audio_files'\r\n",
        "    print('started making specrograms'.center(100,'-'))\r\n",
        "    print('\\n')\r\n",
        "\r\n",
        "    make_spectrogram(path)\r\n",
        "    print('ended making spectrograms'.center(100,'-'))\r\n",
        "    print('\\n')\r\n",
        "\r\n",
        "\r\n",
        "    #load trained neural network\r\n",
        "    model = resnet_model()\r\n",
        "    model_path = '/content/drive/MyDrive/mini_project_2/weight_reg-model.04-0.30.h5'\r\n",
        "    model.load_weights(model_path)\r\n",
        "\r\n",
        "\r\n",
        "    #start the algorithamic flow chart and predict \r\n",
        "    spectrogram_path = '/content/spectrograms/'\r\n",
        "    audio_files_path = '/content/chunked_audio_files/'\r\n",
        "\r\n",
        "    print('started the flow chart'.center(100,'-'))\r\n",
        "    print('\\n')\r\n",
        "\r\n",
        "    data = [] \r\n",
        "    for img_file,wav_file in zip(sorted(glob(spectrogram_path+'*.png')),sorted(glob(audio_files_path+'*.wav'))):\r\n",
        "        data.append(making_results(img_file,wav_file,model))\r\n",
        "    print('ended the flow chart '.center(100,'-'))\r\n",
        "    print('\\n')\r\n",
        "\r\n",
        "    return data"
      ],
      "execution_count": 2,
      "outputs": []
    },
    {
      "cell_type": "code",
      "metadata": {
        "colab": {
          "base_uri": "https://localhost:8080/"
        },
        "id": "ge57Zz0fe3de",
        "outputId": "910d8269-270e-4d74-de5f-dc27f267eebe"
      },
      "source": [
        "#web app\r\n",
        "\r\n",
        "data = execute_project('/content/drive/MyDrive/mini_project_2/97.wav')\r\n",
        "\r\n",
        "app = Flask(__name__,template_folder='/content/',static_folder = '/content/chunked_audio_files')\r\n",
        "\r\n",
        "run_with_ngrok(app)  # Start ngrok when app is run\r\n",
        "\r\n",
        "@app.route(\"/\")\r\n",
        "def root():\r\n",
        "    # url = request.method\r\n",
        "    return render_template(\"index.html\", len = len(data), data = data)\r\n",
        "\r\n",
        "print(\"the web app is getting started\".center(100,'-')) \r\n",
        "print('\\n')\r\n",
        "\r\n",
        "app.run()"
      ],
      "execution_count": null,
      "outputs": [
        {
          "output_type": "stream",
          "text": [
            "---------------------------------------started making chunks----------------------------------------\n",
            "\n",
            "\n",
            "                                     started cleaning directory                                     \n",
            "                                     directory cleanining done                                      \n",
            "                                      initiated making chunks                                       \n",
            "                                    the number of chunks are 13                                     \n",
            "                                        making data is done                                         \n",
            "----------------------------------------ended making chunks-----------------------------------------\n",
            "\n",
            "\n",
            "-------------------------------------started making specrograms-------------------------------------\n",
            "\n",
            "\n",
            "                                     started cleaning directory                                     \n",
            "                                     directory cleanining done                                      \n",
            "                                   making of spectrograms is done                                   \n",
            "-------------------------------------ended making spectrograms--------------------------------------\n",
            "\n",
            "\n",
            "---------------------------------------started the flow chart---------------------------------------\n",
            "\n",
            "\n",
            "                                     started cleaning directory                                     \n",
            "                                     directory cleanining done                                      \n",
            "                                     started cleaning directory                                     \n",
            "                                     directory cleanining done                                      \n",
            "                                     started cleaning directory                                     \n",
            "                                     directory cleanining done                                      \n",
            "                                     started cleaning directory                                     \n",
            "                                     directory cleanining done                                      \n",
            "                                     started cleaning directory                                     \n",
            "                                     directory cleanining done                                      \n",
            "                                     started cleaning directory                                     \n",
            "                                     directory cleanining done                                      \n",
            "                                     started cleaning directory                                     \n",
            "                                     directory cleanining done                                      \n",
            "                                     started cleaning directory                                     \n",
            "                                     directory cleanining done                                      \n",
            "                                     started cleaning directory                                     \n",
            "                                     directory cleanining done                                      \n",
            "                                     started cleaning directory                                     \n",
            "                                     directory cleanining done                                      \n",
            "                                     started cleaning directory                                     \n",
            "                                     directory cleanining done                                      \n",
            "                                     started cleaning directory                                     \n",
            "                                     directory cleanining done                                      \n",
            "---------------------------------------ended the flow chart ----------------------------------------\n",
            "\n",
            "\n",
            "-----------------------------------the web app is getting started-----------------------------------\n",
            "\n",
            "\n",
            " * Serving Flask app \"__main__\" (lazy loading)\n",
            " * Environment: production\n",
            "\u001b[31m   WARNING: This is a development server. Do not use it in a production deployment.\u001b[0m\n",
            "\u001b[2m   Use a production WSGI server instead.\u001b[0m\n",
            " * Debug mode: off\n"
          ],
          "name": "stdout"
        },
        {
          "output_type": "stream",
          "text": [
            " * Running on http://127.0.0.1:5000/ (Press CTRL+C to quit)\n"
          ],
          "name": "stderr"
        },
        {
          "output_type": "stream",
          "text": [
            " * Running on http://dd41e79e4806.ngrok.io\n",
            " * Traffic stats available on http://127.0.0.1:4040\n"
          ],
          "name": "stdout"
        },
        {
          "output_type": "stream",
          "text": [
            "127.0.0.1 - - [31/Dec/2020 02:29:10] \"\u001b[37mGET / HTTP/1.1\u001b[0m\" 200 -\n",
            "127.0.0.1 - - [31/Dec/2020 02:29:10] \"\u001b[37mGET /chunked_audio_files/0.wav HTTP/1.1\u001b[0m\" 206 -\n",
            "127.0.0.1 - - [31/Dec/2020 02:29:10] \"\u001b[37mGET /chunked_audio_files/1.wav HTTP/1.1\u001b[0m\" 206 -\n",
            "127.0.0.1 - - [31/Dec/2020 02:29:10] \"\u001b[37mGET /chunked_audio_files/10.wav HTTP/1.1\u001b[0m\" 206 -\n",
            "127.0.0.1 - - [31/Dec/2020 02:29:11] \"\u001b[37mGET /chunked_audio_files/11.wav HTTP/1.1\u001b[0m\" 206 -\n",
            "127.0.0.1 - - [31/Dec/2020 02:29:11] \"\u001b[37mGET /chunked_audio_files/2.wav HTTP/1.1\u001b[0m\" 206 -\n",
            "127.0.0.1 - - [31/Dec/2020 02:29:11] \"\u001b[37mGET /chunked_audio_files/3.wav HTTP/1.1\u001b[0m\" 206 -\n",
            "127.0.0.1 - - [31/Dec/2020 02:29:12] \"\u001b[37mGET /chunked_audio_files/4.wav HTTP/1.1\u001b[0m\" 206 -\n",
            "127.0.0.1 - - [31/Dec/2020 02:29:12] \"\u001b[37mGET /chunked_audio_files/5.wav HTTP/1.1\u001b[0m\" 206 -\n",
            "127.0.0.1 - - [31/Dec/2020 02:29:12] \"\u001b[37mGET /chunked_audio_files/6.wav HTTP/1.1\u001b[0m\" 206 -\n",
            "127.0.0.1 - - [31/Dec/2020 02:29:12] \"\u001b[37mGET /chunked_audio_files/7.wav HTTP/1.1\u001b[0m\" 206 -\n",
            "127.0.0.1 - - [31/Dec/2020 02:29:12] \"\u001b[37mGET /chunked_audio_files/8.wav HTTP/1.1\u001b[0m\" 206 -\n",
            "127.0.0.1 - - [31/Dec/2020 02:29:12] \"\u001b[37mGET /chunked_audio_files/9.wav HTTP/1.1\u001b[0m\" 206 -\n",
            "127.0.0.1 - - [31/Dec/2020 02:29:14] \"\u001b[33mGET /favicon.ico HTTP/1.1\u001b[0m\" 404 -\n"
          ],
          "name": "stderr"
        }
      ]
    },
    {
      "cell_type": "code",
      "metadata": {
        "id": "ruJfs1dpdDNo"
      },
      "source": [
        ""
      ],
      "execution_count": null,
      "outputs": []
    }
  ]
}